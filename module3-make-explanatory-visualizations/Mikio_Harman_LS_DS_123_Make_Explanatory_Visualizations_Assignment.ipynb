{
 "cells": [
  {
   "cell_type": "markdown",
   "metadata": {
    "colab_type": "text",
    "id": "view-in-github"
   },
   "source": [
    "<a href=\"https://colab.research.google.com/github/mpHarm88/DS-Unit-1-Sprint-2-Data-Wrangling-and-Storytelling/blob/master/module3-make-explanatory-visualizations/Mikio_Harman_LS_DS_123_Make_Explanatory_Visualizations_Assignment.ipynb\" target=\"_parent\"><img src=\"https://colab.research.google.com/assets/colab-badge.svg\" alt=\"Open In Colab\"/></a>"
   ]
  },
  {
   "cell_type": "markdown",
   "metadata": {
    "colab_type": "text",
    "id": "NMEswXWh9mqw"
   },
   "source": [
    "# ASSIGNMENT\n",
    "\n",
    "### 1) Replicate the lesson code. I recommend that you [do not copy-paste](https://docs.google.com/document/d/1ubOw9B3Hfip27hF2ZFnW3a3z9xAgrUDRReOEo-FHCVs/edit).\n",
    "\n",
    "Get caught up to where we got our example in class and then try and take things further. How close to \"pixel perfect\" can you make the lecture graph?\n",
    "\n",
    "Once you have something that you're proud of, share your graph in the cohort channel and move on to the second exercise.\n",
    "\n",
    "### 2) Reproduce another example from [FiveThityEight's shared data repository](https://data.fivethirtyeight.com/).\n",
    "\n",
    "**WARNING**: There are a lot of very custom graphs and tables at the above link. I **highly** recommend not trying to reproduce any that look like a table of values or something really different from the graph types that we are already familiar with. Search through the posts until you find a graph type that you are more or less familiar with: histogram, bar chart, stacked bar chart, line chart, [seaborn relplot](https://seaborn.pydata.org/generated/seaborn.relplot.html), etc. Recreating some of the graphics that 538 uses would be a lot easier in Adobe photoshop/illustrator than with matplotlib. \n",
    "\n",
    "- If you put in some time to find a graph that looks \"easy\" to replicate you'll probably find that it's not as easy as you thought. \n",
    "\n",
    "- If you start with a graph that looks hard to replicate you'll probably run up against a brick wall and be disappointed with your afternoon.\n",
    "\n",
    "\n",
    "\n",
    "\n",
    "\n",
    "\n",
    "\n",
    "\n",
    "\n",
    "\n"
   ]
  },
  {
   "cell_type": "code",
   "execution_count": 1,
   "metadata": {
    "colab": {
     "base_uri": "https://localhost:8080/",
     "height": 848
    },
    "colab_type": "code",
    "id": "7hd230hvxncR",
    "outputId": "8669aadc-582d-42c3-87a1-445f3c94901d"
   },
   "outputs": [
    {
     "data": {
      "text/html": [
       "<img src=\"https://fivethirtyeight.com/wp-content/uploads/2017/09/mehtahickey-inconvenient-0830-1.png\" width=\"400\"/>"
      ],
      "text/plain": [
       "<IPython.core.display.Image object>"
      ]
     },
     "metadata": {},
     "output_type": "display_data"
    },
    {
     "data": {
      "text/html": [
       "<img src=\"https://fivethirtyeight.com/wp-content/uploads/2014/05/hickey-datalab-steak.png?w=575\" width=\"400\"/>"
      ],
      "text/plain": [
       "<IPython.core.display.Image object>"
      ]
     },
     "metadata": {},
     "output_type": "display_data"
    },
    {
     "data": {
      "text/html": [
       "<img src=\"https://fivethirtyeight.com/wp-content/uploads/2014/04/silver-age-congress-1.png?w=1150\" width=\"400\"/>"
      ],
      "text/plain": [
       "<IPython.core.display.Image object>"
      ]
     },
     "metadata": {},
     "output_type": "display_data"
    }
   ],
   "source": [
    "from IPython.display import display, Image\n",
    "\n",
    "url = 'https://fivethirtyeight.com/wp-content/uploads/2017/09/mehtahickey-inconvenient-0830-1.png'\n",
    "example = Image(url=url, width=400)\n",
    "\n",
    "url2 = 'https://fivethirtyeight.com/wp-content/uploads/2014/05/hickey-datalab-steak.png?w=575'\n",
    "url3 = 'https://fivethirtyeight.com/wp-content/uploads/2014/04/silver-age-congress-1.png?w=1150'\n",
    "example2 = Image(url=url2, width=400)\n",
    "example3 = Image(url=url3, width=400)\n",
    "display(example)\n",
    "display(example2)\n",
    "display(example3)"
   ]
  },
  {
   "cell_type": "code",
   "execution_count": 16,
   "metadata": {
    "colab": {
     "base_uri": "https://localhost:8080/",
     "height": 288
    },
    "colab_type": "code",
    "id": "7SY1ZHawyZvz",
    "outputId": "1cfed653-c58e-4345-a006-248a18631f61"
   },
   "outputs": [
    {
     "data": {
      "text/html": [
       "<img src=\"https://fivethirtyeight.com/wp-content/uploads/2017/09/mehtahickey-inconvenient-0830-1.png\" width=\"400\"/>"
      ],
      "text/plain": [
       "<IPython.core.display.Image object>"
      ]
     },
     "metadata": {},
     "output_type": "display_data"
    }
   ],
   "source": []
  },
  {
   "cell_type": "code",
   "execution_count": 19,
   "metadata": {
    "colab": {
     "base_uri": "https://localhost:8080/",
     "height": 339
    },
    "colab_type": "code",
    "id": "BtZWkzIGxTFb",
    "outputId": "fed4a1f9-d4b1-4bff-f3d8-1983ac921117"
   },
   "outputs": [
    {
     "data": {
      "image/png": "[encoded data removed]",
      "text/plain": [
       "<Figure size 432x288 with 1 Axes>"
      ]
     },
     "metadata": {},
     "output_type": "display_data"
    }
   ],
   "source": [
    "import matplotlib.pyplot as plt\n",
    "import matplotlib.ticker\n",
    "%matplotlib inline\n",
    "import numpy as np\n",
    "import pandas as pd\n",
    "\n",
    "# plt.style.use('fivethirtyeight')\n",
    "\n",
    "fake = pd.Series([38, 3, 2, 1, 2, 4, 6, 5, 5, 33],\n",
    "                 index=range(1,11))\n",
    "\n",
    "#Using stylesheet fivethirtyeight\n",
    "plt.style.use('fivethirtyeight')\n",
    "\n",
    "#generating the figure\n",
    "fig = plt.figure()\n",
    "fig.patch.set(facecolor='white')\n",
    "\n",
    "#generate axes (center section) for the plot\n",
    "ax = fake.plot.bar(color='#ED713A', width=0.9)\n",
    "ax.set(facecolor='white')\n",
    "# ax.patch.set_alpha(1)\n",
    "\n",
    "# There is more than one way to set a title of a graph\n",
    "# matplotlib is not 'pythonic\n",
    "# fig.suptitle('test title')\n",
    "#ax.set_title('title')\n",
    "\n",
    "#If we want a custom title\n",
    "#We can just use a text annotation and make it look like a title\n",
    "ax.text(x=-1.8, y=44, s=\"'An Inconvenient Sequel: Truth To Power' is divisive\",\n",
    "        fontweight='bold', fontsize=12);\n",
    "ax.text(x=-1.8, y=41.5, s=\"IMDb ratings for thr film as of Aug 29\",\n",
    "        fontsize=11)\n",
    "\n",
    "#Set out axis labels (These are just text object that are rotated)\n",
    "ax.set_ylabel(\"Percent of total votes\", fontsize=9, fontweight='bold',\n",
    "              labelpad=10)\n",
    "ax.set_xlabel(\"Rating\", fontsize=9, fontweight='bold', labelpad=10)\n",
    "\n",
    "y = [0, 10, 20, 30, '40%']\n",
    "\n",
    "#Fix our tick labels. These are text and use text parameters\n",
    "#Making grid units grey and xx-small\n",
    "ax.set_xticklabels(range(1, 11), rotation=0, color='grey', size='xx-small')\n",
    "ax.set_yticks(range(0,50,10))\n",
    "ax.set_yticklabels(y, color='grey', size='xx-small')\n",
    "ax.tick_params(axis='both', length=10, color='grey')\n",
    "\n",
    "# Changing spine color\n",
    "ax.spines['top'].set_color('white')\n",
    "ax.spines['bottom'].set_color('white')\n",
    "ax.spines['right'].set_color('white')\n",
    "ax.spines['left'].set_color('white')\n",
    "\n",
    "#getting rid of the echo\n",
    "plt.show()"
   ]
  },
  {
   "cell_type": "code",
   "execution_count": 20,
   "metadata": {
    "colab": {
     "base_uri": "https://localhost:8080/",
     "height": 356
    },
    "colab_type": "code",
    "id": "NffWwwtg1dST",
    "outputId": "a8c1a680-43f5-48e8-eac9-a4d667820712"
   },
   "outputs": [
    {
     "data": {
      "text/html": [
       "<img src=\"https://fivethirtyeight.com/wp-content/uploads/2017/09/mehtahickey-inconvenient-0830-1.png\" width=\"400\"/>"
      ],
      "text/plain": [
       "<IPython.core.display.Image object>"
      ]
     },
     "metadata": {},
     "output_type": "display_data"
    }
   ],
   "source": [
    "display(example)"
   ]
  },
  {
   "cell_type": "markdown",
   "metadata": {
    "colab_type": "text",
    "id": "JN1qtl0uGorQ"
   },
   "source": [
    "### 2) Reproduce another example from [FiveThityEight's shared data repository](https://data.fivethirtyeight.com/).\n"
   ]
  },
  {
   "cell_type": "code",
   "execution_count": 7,
   "metadata": {
    "colab": {
     "base_uri": "https://localhost:8080/",
     "height": 193
    },
    "colab_type": "code",
    "id": "uyOOWUz4B-CY",
    "outputId": "719fba96-eb79-48b5-ad54-efc5abf3be31"
   },
   "outputs": [
    {
     "data": {
      "text/html": [
       "<img src=\"https://fivethirtyeight.com/wp-content/uploads/2014/05/hickey-datalab-steak.png?w=575\" width=\"400\"/>"
      ],
      "text/plain": [
       "<IPython.core.display.Image object>"
      ]
     },
     "metadata": {},
     "output_type": "display_data"
    }
   ],
   "source": [
    "#How American Like Their Steak\n",
    "display(example2)"
   ]
  },
  {
   "cell_type": "code",
   "execution_count": 8,
   "metadata": {
    "colab": {
     "base_uri": "https://localhost:8080/",
     "height": 171
    },
    "colab_type": "code",
    "id": "tuDEycxBIkcR",
    "outputId": "a84bc2e8-eb5d-4f14-c98d-d7492f27176c"
   },
   "outputs": [
    {
     "data": {
      "image/png": "[encoded data removed]",
      "text/plain": [
       "<Figure size 356.4x108 with 1 Axes>"
      ]
     },
     "metadata": {},
     "output_type": "display_data"
    }
   ],
   "source": [
    "import matplotlib.pyplot as plt\n",
    "\n",
    "steak = pd.Series(\n",
    "    [ 5, 5, 5, 5, 5, 5,\n",
    "      4, 4, 4, 4, 4, 4, 4, 4, 4, 4, 4, 4, 4, 4,\n",
    "      3, 3, 3, 3, 3, 3, 3, 3, 3, 3, 3, 3, 3, 3, 3, 3, 3, 3, 3, 3, 3, 3, 3, 3,\n",
    "      2, 2, 2, 2, 2, 2, 2, 2, 2, 2, 2, 2, 2, 2, 2, 2, 2, 2, 2, 2, 2, 2, 2, 2, 2, 2, 2, 2, 2, 2, 2,\n",
    "      1, 1, 1, 1, 1]\n",
    ")\n",
    "\n",
    "ax = steak.value_counts(ascending=False).sort_index().plot(kind='barh', \n",
    "                                                           width=.7, \n",
    "                                                           figsize=(4.95,1.5), \n",
    "                                                           color=['#B64240', '#B36154', '#955731', '#703F2B', '#370B03']\n",
    "                                                           )\n",
    "ax.grid(False)\n",
    "plt.style.use('fivethirtyeight')\n",
    "ax.tick_params(\n",
    "    axis='x',\n",
    "    which='both',\n",
    "    bottom=False,\n",
    "    top=False,\n",
    "    labelbottom=False\n",
    ")\n",
    "\n",
    "ax.set_yticklabels(labels=['Rare', 'Medium-Rare', 'Medium', 'Medium-well', 'Well'], fontfamily='sans-serif', color='#4d4d4d',\n",
    "                   fontsize=10.5)\n",
    "ax.text(x=-8, y=7, s=\"'How Do You Like Your Steak Prepared?'\", \n",
    "        fontweight='bold', \n",
    "        fontsize=15, \n",
    "        fontfamily='DejaVu Sans',\n",
    "        color='#3B3B3B'\n",
    "        )\n",
    "ax.text(x=-8, y=6, \n",
    "        s=\"From a survey of 432 steak-eating Americans\", \n",
    "        fontsize=12, \n",
    "        fontfamily='sans-serif',\n",
    "        color='#545454'    \n",
    "        )\n",
    "ax.text(x=6.2, y=3.85, \n",
    "        s=\"8%\",\n",
    "        fontsize=8.25, \n",
    "        fontfamily='sans-serif',\n",
    "        color='#707070'    \n",
    "        )\n",
    "ax.text(x=14, y=2.85, \n",
    "        s=\"17\", \n",
    "        fontsize=8.25, \n",
    "        fontfamily='sans-serif',\n",
    "        color='#707070'    \n",
    "        )\n",
    "ax.text(x=24.2, y=1.85, \n",
    "        s=\"31\", \n",
    "        fontsize=8.25, \n",
    "        fontfamily='sans-serif',\n",
    "        color='#707070'    \n",
    "        )\n",
    "ax.text(x=31.2, y=0.85, \n",
    "        s=\"38\", \n",
    "        fontsize=8.25, \n",
    "        fontfamily='sans-serif',\n",
    "        color='#707070'    \n",
    "        )\n",
    "ax.text(x=5.1, y=-.2, \n",
    "        s=\"5\", \n",
    "        fontsize=8.25, \n",
    "        fontfamily='sans-serif',\n",
    "        color='#707070'    \n",
    "        )\n",
    "\n",
    "plt.show()"
   ]
  },
  {
   "cell_type": "code",
   "execution_count": 12,
   "metadata": {
    "colab": {
     "base_uri": "https://localhost:8080/",
     "height": 193
    },
    "colab_type": "code",
    "id": "OqZgAN-ymamd",
    "outputId": "28d18529-ef44-448a-b0ad-562024a030a4"
   },
   "outputs": [
    {
     "data": {
      "text/html": [
       "<img src=\"https://fivethirtyeight.com/wp-content/uploads/2014/05/hickey-datalab-steak.png?w=575\" width=\"400\"/>"
      ],
      "text/plain": [
       "<IPython.core.display.Image object>"
      ]
     },
     "metadata": {},
     "output_type": "display_data"
    }
   ],
   "source": [
    "display(example2)"
   ]
  },
  {
   "cell_type": "markdown",
   "metadata": {
    "colab_type": "text",
    "id": "0wSrBzmJyWaV"
   },
   "source": [
    "# STRETCH OPTIONS\n",
    "\n",
    "### 1) Reproduce one of the following using the matplotlib or seaborn libraries:\n",
    "\n",
    "- [thanksgiving-2015](https://fivethirtyeight.com/features/heres-what-your-part-of-america-eats-on-thanksgiving/) \n",
    "- [candy-power-ranking](https://fivethirtyeight.com/features/the-ultimate-halloween-candy-power-ranking/) \n",
    "- or another example of your choice!\n",
    "\n",
    "### 2) Make more charts!\n",
    "\n",
    "Choose a chart you want to make, from [Visual Vocabulary - Vega Edition](http://ft.com/vocabulary).\n",
    "\n",
    "Find the chart in an example gallery of a Python data visualization library:\n",
    "- [Seaborn](http://seaborn.pydata.org/examples/index.html)\n",
    "- [Altair](https://altair-viz.github.io/gallery/index.html)\n",
    "- [Matplotlib](https://matplotlib.org/gallery.html)\n",
    "- [Pandas](https://pandas.pydata.org/pandas-docs/stable/visualization.html)\n",
    "\n",
    "Reproduce the chart. [Optionally, try the \"Ben Franklin Method.\"](https://docs.google.com/document/d/1ubOw9B3Hfip27hF2ZFnW3a3z9xAgrUDRReOEo-FHCVs/edit) If you want, experiment and make changes.\n",
    "\n",
    "Take notes. Consider sharing your work with your cohort!"
   ]
  },
  {
   "cell_type": "code",
   "execution_count": 14,
   "metadata": {
    "colab": {},
    "colab_type": "code",
    "id": "dRJkKftiy5BJ"
   },
   "outputs": [
    {
     "data": {
      "image/png": "[encoded data removed]",
      "text/plain": [
       "<Figure size 432x288 with 1 Axes>"
      ]
     },
     "metadata": {},
     "output_type": "display_data"
    }
   ],
   "source": [
    "url = 'https://raw.githubusercontent.com/fivethirtyeight/data/master/congress-age/congress-terms.csv'\n",
    "df = pd.read_csv(url, encoding='utf-8')\n",
    "df = df.drop(columns=['congress', 'chamber', 'bioguide', 'firstname', 'middlename',\n",
    "                      'lastname', 'suffix', 'birthday', 'state', 'incumbent'])\n",
    "df['termstart'] = pd.to_datetime(df['termstart'])\n",
    "df['termstart']=df['termstart'].dt.year\n",
    "df_d_filtered = df[df['party'] == 'D']\n",
    "df_r_filtered = df[df['party'] == 'R']\n",
    "#Finding the mean age for each year\n",
    "df_d_filtered = df_d_filtered.groupby('termstart', as_index=False).age.mean()\n",
    "df_r_filtered = df_r_filtered.groupby('termstart', as_index=False).age.mean()\n",
    "df_r_filtered.columns = ['year_r', 'age_r']\n",
    "df_d_filtered.columns = ['year_d', 'age_d']\n",
    "df_dr = pd.concat([df_r_filtered, df_d_filtered], axis=1)\n",
    "\n",
    "plt.style.use('fivethirtyeight')\n",
    "fig, ax = plt.subplots()\n",
    "\n",
    "y= [40, 45, 50, 55, '60 yrs']\n",
    "x= [0, 1950, \"'60\", \"'70\", \"'80\", \"'90\", 2000, \"'10\"]\n",
    "\n",
    "ax.plot('year_d', 'age_d', color='#0E94D3', data=df_dr, linewidth=2.5)\n",
    "ax.plot('year_r','age_r', color='#F44A2C', data=df_dr, linewidth=2.5)\n",
    "\n",
    "ax.text(x=1937, y=64, s=\"Average Age of Members of Congress\", fontweight='bold', fontsize=16, color='#3E3E3E')\n",
    "ax.text(x=1937,y=62.3, s=\"At start of term, 1947-2013\", fontsize=14)\n",
    "ax.text(x=1991,y=57.5, s=\"Democrats\", fontsize=11.3,color='#0E94D3', \n",
    "        fontfamily='monospace', fontstretch='expanded', fontweight='semibold', fontstyle='normal')\n",
    "ax.text(x=1961,y=56, s=\"Republicans\", fontsize=11.3,color='#F44A2C', \n",
    "        fontfamily='monospace', fontstretch='expanded', fontweight='semibold', fontstyle='normal')\n",
    "\n",
    "ax.set_yticklabels(y, color='black', size='small', fontfamily='sans-serif', fontsize=10)\n",
    "ax.set_xticklabels(x, color='black', size='small', fontfamily='sans-serif', fontsize=10)\n",
    "ax.set_yticks([40,45,50,55,60])\n",
    "ax.set_ylim(bottom=39)\n",
    "\n",
    "plt.show()"
   ]
  },
  {
   "cell_type": "code",
   "execution_count": 15,
   "metadata": {},
   "outputs": [
    {
     "data": {
      "text/html": [
       "<img src=\"https://fivethirtyeight.com/wp-content/uploads/2014/04/silver-age-congress-1.png?w=1150\" width=\"400\"/>"
      ],
      "text/plain": [
       "<IPython.core.display.Image object>"
      ]
     },
     "metadata": {},
     "output_type": "display_data"
    }
   ],
   "source": [
    "display(example3)"
   ]
  },
  {
   "cell_type": "code",
   "execution_count": null,
   "metadata": {},
   "outputs": [],
   "source": []
  }
 ],
 "metadata": {
  "colab": {
   "collapsed_sections": [],
   "include_colab_link": true,
   "name": "Mikio Harman LS_DS_123_Make_Explanatory_Visualizations_Assignment.ipynb",
   "provenance": [],
   "version": "0.3.2"
  },
  "kernelspec": {
   "display_name": "Python 3",
   "language": "python",
   "name": "python3"
  },
  "language_info": {
   "codemirror_mode": {
    "name": "ipython",
    "version": 3
   },
   "file_extension": ".py",
   "mimetype": "text/x-python",
   "name": "python",
   "nbconvert_exporter": "python",
   "pygments_lexer": "ipython3",
   "version": "3.7.3"
  }
 },
 "nbformat": 4,
 "nbformat_minor": 4
}
